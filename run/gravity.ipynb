{
 "cells": [
  {
   "cell_type": "code",
   "execution_count": null,
   "metadata": {},
   "outputs": [],
   "source": [
    "%reload_ext autoreload\n",
    "%autoreload 2"
   ]
  },
  {
   "cell_type": "code",
   "execution_count": null,
   "metadata": {},
   "outputs": [],
   "source": [
    "import numpy as np\n",
    "import plotly.graph_objects as go\n",
    "\n",
    "x = np.linspace(0.0, 2, 100)"
   ]
  },
  {
   "cell_type": "markdown",
   "metadata": {},
   "source": [
    "Solution candidate:\n",
    "\n",
    "$$\n",
    "\\Theta(r) = A \\cdot ln(b_1(r + s_1)) \\cdot e^{-b_2 (r - s_2)^2}\n",
    "$$"
   ]
  },
  {
   "cell_type": "code",
   "execution_count": null,
   "metadata": {},
   "outputs": [],
   "source": [
    "def exp2(b_2, s_2):\n",
    "    def f(x):\n",
    "        return np.exp(-b_2 * (x - s_2))\n",
    "    return f\n",
    "\n",
    "def ln(b_1, s_1):\n",
    "    def f(x):\n",
    "        return np.log(b_1 * (x + s_1))\n",
    "    return f\n",
    "\n",
    "def combination(A, b_1, s_1, b_2, s_2):\n",
    "    def f(x):\n",
    "        return A * ln(b_1, s_1)(x) * exp2(b_2, s_2)(x)\n",
    "    return f\n",
    "\n",
    "def deriv_combination(A, b_1, s_1, b_2, s_2):\n",
    "    def f(x):\n",
    "        return A * exp2(b_2, s_2)(x) * (1/(x + s_1) - b_2 * ln(b_1, s_1)(x))\n",
    "    return f"
   ]
  },
  {
   "cell_type": "code",
   "execution_count": null,
   "metadata": {},
   "outputs": [],
   "source": [
    "params = (1, 6, 0.2, 4, 1.2)\n",
    "grav = combination(*params)\n",
    "grav_force = deriv_combination(*params)\n",
    "\n",
    "xx = np.linspace(0, 800, 100)\n",
    "r0 = 100\n",
    "s = r0 / 0.15\n",
    "\n",
    "go.Figure(data=[\n",
    "    go.Scatter(name=\"potential\", x=xx, y=grav(xx/s)),\n",
    "    go.Scatter(name=\"force\", x=xx, y=grav_force(xx/s))\n",
    "])"
   ]
  },
  {
   "cell_type": "code",
   "execution_count": null,
   "metadata": {},
   "outputs": [],
   "source": [
    "def theta(Ca, la, Cr, lr):\n",
    "    def f(r):\n",
    "        return -Ca*np.exp(-r / la) + Cr * np.exp(-r / lr)\n",
    "    return f\n",
    "\n",
    "def derivative_theta(Ca, la, Cr, lr):\n",
    "    def f(r):\n",
    "        return Ca / la * np.exp(-r / la) - Cr / lr * np.exp(-r / lr)\n",
    "    return f     "
   ]
  },
  {
   "cell_type": "code",
   "execution_count": null,
   "metadata": {},
   "outputs": [],
   "source": [
    "params = (1, 100, 20, 2)\n",
    "grav = theta(*params)\n",
    "grav_force = derivative_theta(*params)\n",
    "\n",
    "x = np.linspace(0, 100, 100)\n",
    "go.Figure(data=[go.Scatter(x=x, y=grav(x), name=\"potential\"), go.Scatter(x=x, y=grav_force(x), name=\"force\")])"
   ]
  },
  {
   "cell_type": "code",
   "execution_count": 5,
   "metadata": {},
   "outputs": [],
   "source": [
    "import numpy as np\n",
    "\n",
    "a = np.array([[1, 1], [2, 2], [3, 3], [4, 4]])\n",
    "b = np.array([1,5,5,2])\n",
    "a = a[b < 5]"
   ]
  },
  {
   "cell_type": "code",
   "execution_count": 6,
   "metadata": {},
   "outputs": [
    {
     "data": {
      "text/plain": [
       "array([[1, 1],\n",
       "       [4, 4]])"
      ]
     },
     "execution_count": 6,
     "metadata": {},
     "output_type": "execute_result"
    }
   ],
   "source": [
    "a"
   ]
  }
 ],
 "metadata": {
  "kernelspec": {
   "display_name": "Python 3",
   "language": "python",
   "name": "python3"
  },
  "language_info": {
   "codemirror_mode": {
    "name": "ipython",
    "version": 3
   },
   "file_extension": ".py",
   "mimetype": "text/x-python",
   "name": "python",
   "nbconvert_exporter": "python",
   "pygments_lexer": "ipython3",
   "version": "3.11.8"
  }
 },
 "nbformat": 4,
 "nbformat_minor": 2
}
