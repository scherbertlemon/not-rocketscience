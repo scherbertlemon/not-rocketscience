{
 "cells": [
  {
   "cell_type": "code",
   "execution_count": null,
   "metadata": {},
   "outputs": [],
   "source": [
    "%reload_ext autoreload\n",
    "%autoreload 2"
   ]
  },
  {
   "cell_type": "code",
   "execution_count": null,
   "metadata": {},
   "outputs": [],
   "source": [
    "import numpy as np\n",
    "import plotly.graph_objects as go"
   ]
  },
  {
   "cell_type": "markdown",
   "metadata": {},
   "source": [
    "# Picking a gravity force / potential for Not Rocketscience"
   ]
  },
  {
   "cell_type": "markdown",
   "metadata": {},
   "source": [
    "## Newtonian gravity\n",
    "\n",
    "Links:\n",
    "\n",
    "* [Potential](https://en.wikipedia.org/wiki/Gravitational_field)\n",
    "* [Gravity force](https://en.wikipedia.org/wiki/Newton%27s_law_of_universal_gravitation)\n",
    "\n",
    "Classic law for gravity, applicable for velocities well below light speed and distant from gravitational sources.\n",
    "Let $x$ be the position of a test particle with unit mass, let $x_x$ be a gravitational source (a planet), then it hold for the gravitational force on $x$, $F(x)$, and the gravitational potential $\\Phi(r)$\n",
    "\n",
    "\\begin{align}\n",
    "F(x) &= -\\frac{Gm_p}{|x-x_p|^2}\\frac{x-x_p}{|x-x_p|} = -\\nabla\\Phi(|x-x_p|) \\\\\n",
    "\\Rightarrow \\Phi(r) &= \\frac{Gm_p}{r}\n",
    "\\end{align}"
   ]
  },
  {
   "cell_type": "code",
   "execution_count": null,
   "metadata": {},
   "outputs": [],
   "source": [
    "from not_rocketscience.math import newton_gravity_force, newton_gravity_potential, canonical_newton_parameterset, newton_gravity_force_derivative\n",
    "\n",
    "xn = np.linspace(0, 1, 100)\n",
    "go.Figure(data=[\n",
    "    go.Scatter(name=\"Newton potential\", x=xn, y=newton_gravity_potential(*canonical_newton_parameterset)(xn)),\n",
    "    go.Scatter(name=\"Newton force\", x=xn, y=newton_gravity_force(*canonical_newton_parameterset)(xn)),\n",
    "    # go.Scatter(name=\"Newton force derivative\", x=xn, y=newton_gravity_force_derivative(gravity_constant, 0.05)(xn))\n",
    "])"
   ]
  },
  {
   "cell_type": "markdown",
   "metadata": {},
   "source": [
    "## Weird gravity\n",
    "\n",
    "Newton grvaity is realistic, but not fun to play with: if two masses get too close, the force becomes quite strong, and the calculation explodes or we cannot escape the grvaity well any more. We want to desiign a gravity force, that is gets zero when far away from a planet, is attractive when approaching a planet, and repulsive when we get too close to a planet.\n",
    "\n",
    "Solution candidate:\n",
    "\n",
    "\\begin{align}\n",
    "\\Phi(r) &= A \\cdot \\log(b_1(r + s_1)) \\cdot \\exp(-b_2 (r - s_2)^2) \\\\\n",
    "F(r) &= A \\cdot \\exp(-b_2 (r - s_2)^2) \\cdot (\\frac{1}{r + s_1} - b_2\\log(b1(r + s_1)))\n",
    "\\end{align}"
   ]
  },
  {
   "cell_type": "code",
   "execution_count": null,
   "metadata": {},
   "outputs": [],
   "source": [
    "from not_rocketscience.math import weird_gravity_force, weird_gravity_potential, canonical_weird_parameterset, weird_gravity_force_derivative\n",
    "\n",
    "xw = np.linspace(0, 2, 100)\n",
    "\n",
    "go.Figure(data=[\n",
    "    go.Scatter(name=\"weird potential\", x=xw, y=weird_gravity_potential(*canonical_weird_parameterset)(xw)),\n",
    "    go.Scatter(name=\"weird force\", x=xw, y=weird_gravity_force(*canonical_weird_parameterset)(xw)),\n",
    "    #go.Scatter(name=\"weird force derivative\", x=xw, y=weird_gravity_force_derivative(*canonical_parameterset)(xw))\n",
    "])"
   ]
  },
  {
   "cell_type": "markdown",
   "metadata": {},
   "source": [
    "Scaling the weird gravity to act on a different scale, with the force switch from repulsive to attractive around 200 (px):"
   ]
  },
  {
   "cell_type": "code",
   "execution_count": null,
   "metadata": {},
   "outputs": [],
   "source": [
    "from not_rocketscience.math import newton_iteration\n",
    "\n",
    "zero = newton_iteration(weird_gravity_force(*canonical_weird_parameterset), weird_gravity_force_derivative(*canonical_weird_parameterset), 0, 0.001)\n",
    "weird_scale = 200 / zero\n",
    "weird_scale"
   ]
  },
  {
   "cell_type": "code",
   "execution_count": null,
   "metadata": {},
   "outputs": [],
   "source": [
    "z2 = newton_iteration(lambda r: newton_gravity_force(*canonical_newton_parameterset)(r) + 355, newton_gravity_force_derivative(*canonical_newton_parameterset), 0.03, 0.001)\n",
    "newton_scale = 1000 / z2\n",
    "newton_scale"
   ]
  },
  {
   "cell_type": "code",
   "execution_count": null,
   "metadata": {},
   "outputs": [],
   "source": [
    "xs = np.linspace(0, 1000, 1000)\n",
    "\n",
    "go.Figure(data=[\n",
    "    go.Scatter(name=\"weird gravity\", x=xs, y=weird_gravity_force(*canonical_weird_parameterset)(xs / weird_scale)),\n",
    "    go.Scatter(name=\"newton gravity\", x=xs, y=newton_gravity_force(*canonical_newton_parameterset)(xs / newton_scale))\n",
    "], layout=dict(xaxis=dict(title=\"scaled x\")))\n"
   ]
  },
  {
   "cell_type": "code",
   "execution_count": null,
   "metadata": {},
   "outputs": [],
   "source": []
  }
 ],
 "metadata": {
  "kernelspec": {
   "display_name": "Python 3",
   "language": "python",
   "name": "python3"
  },
  "language_info": {
   "codemirror_mode": {
    "name": "ipython",
    "version": 3
   },
   "file_extension": ".py",
   "mimetype": "text/x-python",
   "name": "python",
   "nbconvert_exporter": "python",
   "pygments_lexer": "ipython3",
   "version": "3.11.8"
  }
 },
 "nbformat": 4,
 "nbformat_minor": 2
}
