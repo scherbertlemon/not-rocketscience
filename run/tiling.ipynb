{
 "cells": [
  {
   "cell_type": "code",
   "execution_count": null,
   "metadata": {},
   "outputs": [],
   "source": [
    "%reload_ext autoreload\n",
    "%autoreload 2"
   ]
  },
  {
   "cell_type": "code",
   "execution_count": null,
   "metadata": {},
   "outputs": [],
   "source": [
    "import numpy as np\n",
    "from collections import OrderedDict\n"
   ]
  },
  {
   "cell_type": "code",
   "execution_count": null,
   "metadata": {},
   "outputs": [],
   "source": [
    "other_positions = dict([\n",
    "    (( 0, 0), np.array((0, 0))),\n",
    "    (( 1, 0), np.array((100, 0))),\n",
    "    (( 1, 1), np.array((100, 100))),\n",
    "    (( 0, 1), np.array((0, 100))),\n",
    "    ((-1, 1), np.array((-100, 100))),\n",
    "    ((-1, 0), np.array((-100, 0))),\n",
    "    ((-1,-1), np.array((-100, -100))),\n",
    "    (( 0,-1), np.array((0, -100))),\n",
    "    (( 1,-1), np.array((1352, -453)))\n",
    "])\n",
    "\n",
    "position = np.array((500, 350))"
   ]
  },
  {
   "cell_type": "code",
   "execution_count": null,
   "metadata": {},
   "outputs": [],
   "source": [
    "# %%timeit -n 1000 -r 1000\n",
    "coords, pos = zip(*other_positions.items())\n",
    "block_metric = np.abs(np.vstack(pos) - position).sum(axis=1)\n",
    "coords[np.argmin(block_metric)]"
   ]
  },
  {
   "cell_type": "code",
   "execution_count": null,
   "metadata": {},
   "outputs": [],
   "source": [
    "block_metric"
   ]
  },
  {
   "cell_type": "code",
   "execution_count": null,
   "metadata": {},
   "outputs": [],
   "source": [
    "# %%timeit -n 1000 -r 1000\n",
    "block_metric = {tile_id: np.abs(pos - position).sum() for tile_id, pos in other_positions.items()}\n",
    "min(block_metric.items(), key=lambda d: d[1])"
   ]
  },
  {
   "cell_type": "code",
   "execution_count": null,
   "metadata": {},
   "outputs": [],
   "source": [
    "(0,-1) in other_positions"
   ]
  },
  {
   "cell_type": "code",
   "execution_count": null,
   "metadata": {},
   "outputs": [],
   "source": [
    "oo = OrderedDict()"
   ]
  },
  {
   "cell_type": "code",
   "execution_count": null,
   "metadata": {},
   "outputs": [],
   "source": [
    "other_positions.pop((-1, -1))"
   ]
  },
  {
   "cell_type": "code",
   "execution_count": null,
   "metadata": {},
   "outputs": [],
   "source": [
    "x, y = np.sign(position)\n",
    "x"
   ]
  },
  {
   "cell_type": "code",
   "execution_count": null,
   "metadata": {},
   "outputs": [],
   "source": [
    "other_positions"
   ]
  },
  {
   "cell_type": "code",
   "execution_count": null,
   "metadata": {},
   "outputs": [],
   "source": [
    "sum(2*dim for dim in (1, 3))"
   ]
  }
 ],
 "metadata": {
  "kernelspec": {
   "display_name": "not-rocketscience",
   "language": "python",
   "name": "python3"
  },
  "language_info": {
   "codemirror_mode": {
    "name": "ipython",
    "version": 3
   },
   "file_extension": ".py",
   "mimetype": "text/x-python",
   "name": "python",
   "nbconvert_exporter": "python",
   "pygments_lexer": "ipython3",
   "version": "3.11.8"
  }
 },
 "nbformat": 4,
 "nbformat_minor": 2
}
