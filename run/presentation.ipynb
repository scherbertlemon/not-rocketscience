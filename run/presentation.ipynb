{
 "cells": [
  {
   "cell_type": "code",
   "execution_count": null,
   "id": "3659f256",
   "metadata": {
    "slideshow": {
     "slide_type": "skip"
    }
   },
   "outputs": [],
   "source": [
    "%reload_ext autoreload\n",
    "%autoreload 2"
   ]
  },
  {
   "cell_type": "code",
   "execution_count": null,
   "id": "a2a8ba61",
   "metadata": {
    "slideshow": {
     "slide_type": "skip"
    }
   },
   "outputs": [],
   "source": [
    "from IPython.core.display import HTML\n",
    "with open(\"rise.css\", \"r\") as f:\n",
    "    s = f\"<style>{f.read()}</style>\"\n",
    "HTML(s)"
   ]
  },
  {
   "cell_type": "code",
   "execution_count": null,
   "id": "b7a3a24c",
   "metadata": {
    "slideshow": {
     "slide_type": "skip"
    }
   },
   "outputs": [],
   "source": [
    "import plotly.graph_objects as go\n",
    "from copy import deepcopy\n",
    "import plotly.io as pio\n",
    "\n",
    "my_template = deepcopy(pio.templates[\"plotly_dark\"])\n",
    "my_template[\"layout\"][\"colorway\"] = [\"#D01D18\", \"#0091CF\", \"#00CF9A\"]\n",
    "my_template[\"layout\"][\"paper_bgcolor\"] = \"#131424\"\n",
    "my_template[\"layout\"][\"plot_bgcolor\"] = \"#131424\"\n",
    "my_template[\"layout\"][\"font\"][\"color\"] = \"#fffac9\"\n",
    "pio.templates[\"notrocket\"] = my_template\n",
    "pio.templates.default = \"notrocket\"\n"
   ]
  },
  {
   "cell_type": "markdown",
   "id": "776b2fc8",
   "metadata": {
    "slideshow": {
     "slide_type": "slide"
    }
   },
   "source": [
    "<div class=\"title\">\n",
    "\n",
    "<h1 class=\"title\">Not Rocketscience</h1>\n",
    "\n",
    "## A spaceship-flying game built with pygame\n",
    "\n",
    "### Andreas Roth - 13. June 2024\n",
    "\n",
    "</div>"
   ]
  },
  {
   "cell_type": "markdown",
   "id": "d95a86dc",
   "metadata": {
    "slideshow": {
     "slide_type": "slide"
    }
   },
   "source": [
    "\n",
    "## Gravity\n",
    "    \n",
    "not newton.\n",
    "    \n"
   ]
  },
  {
   "cell_type": "code",
   "execution_count": null,
   "id": "52d2b23d",
   "metadata": {
    "hide_input": false
   },
   "outputs": [],
   "source": [
    "from not_rocketscience.math import weird_gravity_force as deriv_combination, weird_gravity_potential as combination\n",
    "import numpy as np\n",
    "\n",
    "x = np.linspace(0, 2, 100)\n",
    "y1 = -combination(4, 6, 0.2, 4, 1.2)(x)\n",
    "y2 = -deriv_combination(4, 6, 0.2, 4, 1.2)(x)\n",
    "go.Figure(\n",
    "    data=[\n",
    "        go.Scatter(name=\"Gravity potential\", x=x, y=y1), go.Scatter(name=\"Gravity force\", x=x, y=y2)\n",
    "    ],\n",
    "    layout=dict(height=300, title=\"Gravity potential and force over distance\", xaxis=dict(title=\"distance\"))\n",
    ")\n"
   ]
  },
  {
   "cell_type": "code",
   "execution_count": null,
   "id": "c7f76625",
   "metadata": {},
   "outputs": [],
   "source": [
    "from not_rocketscience.math import newton_gravity\n",
    "\n",
    "go.Figure(data=[go.Scatter(name=\"Newton\", x=x, y=newton_gravity(x))])"
   ]
  }
 ],
 "metadata": {
  "celltoolbar": "Slideshow",
  "kernelspec": {
   "display_name": "Python 3 (ipykernel)",
   "language": "python",
   "name": "python3"
  },
  "language_info": {
   "codemirror_mode": {
    "name": "ipython",
    "version": 3
   },
   "file_extension": ".py",
   "mimetype": "text/x-python",
   "name": "python",
   "nbconvert_exporter": "python",
   "pygments_lexer": "ipython3",
   "version": "3.11.8"
  },
  "rise": {
   "autolaunch": false,
   "backimage": "assets/pres_bg.png",
   "footer": "<h4><b>Andreas Roth</b> | 2024-06-13</h4>",
   "header": "<h3>Not Rocketscience - A spaceship-flying game with pygame</h3>"
  }
 },
 "nbformat": 4,
 "nbformat_minor": 5
}
