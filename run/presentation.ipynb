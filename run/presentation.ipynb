{
 "cells": [
  {
   "cell_type": "code",
   "execution_count": null,
   "id": "3659f256",
   "metadata": {
    "slideshow": {
     "slide_type": "skip"
    }
   },
   "outputs": [],
   "source": [
    "%reload_ext autoreload\n",
    "%autoreload 2"
   ]
  },
  {
   "cell_type": "code",
   "execution_count": null,
   "id": "a2a8ba61",
   "metadata": {
    "slideshow": {
     "slide_type": "skip"
    }
   },
   "outputs": [],
   "source": [
    "from IPython.core.display import HTML\n",
    "with open(\"rise.css\", \"r\") as f:\n",
    "    s = f\"<style>{f.read()}</style>\"\n",
    "HTML(s)"
   ]
  },
  {
   "cell_type": "code",
   "execution_count": null,
   "id": "97256ac9",
   "metadata": {
    "slideshow": {
     "slide_type": "skip"
    }
   },
   "outputs": [],
   "source": [
    "import plotly.graph_objects as go\n",
    "from not_rocketscience import config\n",
    "from copy import deepcopy\n",
    "import plotly.io as pio\n",
    "my_template = deepcopy(pio.templates[\"plotly_dark\"])\n",
    "my_template[\"layout\"][\"colorway\"] = [config.colors.colors[\"ship_red\"], config.colors.colors[\"ship_blue\"], config.colors.colors[\"ship_green\"]]\n",
    "my_template[\"layout\"][\"paper_bgcolor\"] = config.colors.colors[\"space\"]\n",
    "my_template[\"layout\"][\"plot_bgcolor\"] = config.colors.colors[\"space\"]\n",
    "my_template[\"layout\"][\"font\"][\"color\"] = config.colors.colors[\"stars\"]\n",
    "pio.templates[\"notrocket\"] = my_template\n",
    "pio.templates.default = \"notrocket\""
   ]
  },
  {
   "cell_type": "markdown",
   "id": "776b2fc8",
   "metadata": {
    "slideshow": {
     "slide_type": "slide"
    }
   },
   "source": [
    "<div class=\"title\">\n",
    "\n",
    "<h1 class=\"title\">Not Rocketscience</h1>\n",
    "\n",
    "## A spaceship-flying game built with pygame\n",
    "\n",
    "### Andreas Roth - 13. June 2024\n",
    "\n",
    "</div>"
   ]
  },
  {
   "cell_type": "markdown",
   "id": "4c7cfd76",
   "metadata": {
    "slideshow": {
     "slide_type": "slide"
    }
   },
   "source": [
    "<div class=\"sect\">\n",
    "    \n",
    "## What is pygame for?\n",
    "    \n",
    "* [pygame](https://www.pygame.org/news) is a python binding for the [SDL (Simple DirectMedia Layer)](https://www.libsdl.org/) C-library\n",
    "* Pygame makes it very easy to render 2D graphics and geometry to the screen and move them around.\n",
    "* Additionally, keyboard and controller input can be easily processed\n",
    "* Sounds can be played, too (out of scope for this talk)\n",
    "    \n",
    "</div>\n",
    "\n"
   ]
  },
  {
   "cell_type": "markdown",
   "id": "bd0bb4e9",
   "metadata": {
    "slideshow": {
     "slide_type": "subslide"
    }
   },
   "source": [
    "## How does pygame do that?"
   ]
  },
  {
   "cell_type": "markdown",
   "id": "bf944357",
   "metadata": {
    "cell_style": "split",
    "slideshow": {
     "slide_type": "-"
    }
   },
   "source": [
    "<img src=\"assets/very_simple.png\" width=\"450px\">"
   ]
  },
  {
   "cell_type": "markdown",
   "id": "3ffb4ec9",
   "metadata": {
    "cell_style": "split",
    "slideshow": {
     "slide_type": "fragment"
    }
   },
   "source": [
    "* We define ``pygame.Surface``s \n",
    "    * geom. forms,\n",
    "    * image files, \n",
    "    * the ``screen`` itself \n",
    "\n",
    "    and display them at pixel positions ``(x, y)``\n",
    "* Change positions over time $\n",
    "\\rightarrow$ movement\n",
    "* React to inputs $\\rightarrow$ video game"
   ]
  },
  {
   "cell_type": "markdown",
   "id": "1e0b468a",
   "metadata": {
    "slideshow": {
     "slide_type": "subslide"
    }
   },
   "source": [
    "## Program structure\n",
    "\n",
    "**Game loop**: Not a script that runs from beginning to end, but rather runs continuously and reacts on **events**\n",
    "\n",
    "```python\n",
    "running = True\n",
    "while running:\n",
    "    process_inputs()  # react on inputs\n",
    "    render_scene()  # place elements on the screen\n",
    "    update_display()  # update what is displayed\n",
    "    # control how long this takes!\n",
    "    if exit_clicked():\n",
    "        running = False\n",
    "```\n",
    "One iteration of the game loop defines one **frame** of the game.\n",
    "    "
   ]
  },
  {
   "cell_type": "markdown",
   "id": "9abf7408",
   "metadata": {
    "slideshow": {
     "slide_type": "subslide"
    }
   },
   "source": [
    "# Let's dive right in!\n",
    "\n",
    "Take a look at [very_basic.py](./very_basic.py), and the cod eit is based on [GameBase](../src/not_rocketscience/framework.py) and add some input processing!"
   ]
  },
  {
   "cell_type": "markdown",
   "id": "698537d1",
   "metadata": {
    "slideshow": {
     "slide_type": "slide"
    }
   },
   "source": [
    "<div class=\"sect\">\n",
    "    \n",
    "## How to build planets\n",
    "    \n",
    "</div>"
   ]
  },
  {
   "cell_type": "markdown",
   "id": "d95a86dc",
   "metadata": {
    "slideshow": {
     "slide_type": "slide"
    }
   },
   "source": [
    "\n",
    "<div class=\"sect\">\n",
    "    \n",
    "## Movement and mechanics\n",
    "    \n",
    "    \n",
    "</div>\n",
    "\n"
   ]
  },
  {
   "cell_type": "code",
   "execution_count": null,
   "id": "52d2b23d",
   "metadata": {
    "hide_input": true
   },
   "outputs": [],
   "source": [
    "from not_rocketscience.math import weird_gravity_force as deriv_combination, weird_gravity_potential as combination\n",
    "import numpy as np\n",
    "\n",
    "x = np.linspace(0, 2, 100)\n",
    "y1 = -combination(4, 6, 0.2, 4, 1.2)(x)\n",
    "y2 = -deriv_combination(4, 6, 0.2, 4, 1.2)(x)\n",
    "go.Figure(\n",
    "    data=[\n",
    "        go.Scatter(name=\"Gravity potential\", x=x, y=y1), go.Scatter(name=\"Gravity force\", x=x, y=y2)\n",
    "    ],\n",
    "    layout=dict(height=300, title=\"Gravity potential and force over distance\", xaxis=dict(title=\"distance\"))\n",
    ")\n"
   ]
  },
  {
   "cell_type": "code",
   "execution_count": null,
   "id": "c7f76625",
   "metadata": {},
   "outputs": [],
   "source": [
    "from not_rocketscience.math import newton_gravity\n",
    "\n",
    "go.Figure(data=[go.Scatter(name=\"Newton\", x=x, y=newton_gravity(x))])"
   ]
  }
 ],
 "metadata": {
  "celltoolbar": "Slideshow",
  "kernelspec": {
   "display_name": "Python 3 (ipykernel)",
   "language": "python",
   "name": "python3"
  },
  "language_info": {
   "codemirror_mode": {
    "name": "ipython",
    "version": 3
   },
   "file_extension": ".py",
   "mimetype": "text/x-python",
   "name": "python",
   "nbconvert_exporter": "python",
   "pygments_lexer": "ipython3",
   "version": "3.11.8"
  },
  "rise": {
   "autolaunch": false,
   "backimage": "assets/pres_bg.png",
   "footer": "<h4><b>Andreas Roth</b> | 2024-06-13</h4>",
   "header": "<h3>Not Rocketscience - A spaceship-flying game with pygame</h3>"
  }
 },
 "nbformat": 4,
 "nbformat_minor": 5
}
