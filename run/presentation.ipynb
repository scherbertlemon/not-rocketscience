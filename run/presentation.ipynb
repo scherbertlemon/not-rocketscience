{
 "cells": [
  {
   "cell_type": "code",
   "execution_count": null,
   "id": "3659f256",
   "metadata": {
    "slideshow": {
     "slide_type": "skip"
    }
   },
   "outputs": [],
   "source": [
    "%reload_ext autoreload\n",
    "%autoreload 2"
   ]
  },
  {
   "cell_type": "code",
   "execution_count": null,
   "id": "a2a8ba61",
   "metadata": {
    "slideshow": {
     "slide_type": "skip"
    }
   },
   "outputs": [],
   "source": [
    "from IPython.core.display import HTML\n",
    "with open(\"rise.css\", \"r\") as f:\n",
    "    s = f\"<style>{f.read()}</style>\"\n",
    "HTML(s)"
   ]
  },
  {
   "cell_type": "code",
   "execution_count": null,
   "id": "97256ac9",
   "metadata": {
    "slideshow": {
     "slide_type": "skip"
    }
   },
   "outputs": [],
   "source": [
    "import plotly.graph_objects as go\n",
    "import numpy as np\n",
    "from not_rocketscience import config\n",
    "from copy import deepcopy\n",
    "import plotly.io as pio\n",
    "my_template = deepcopy(pio.templates[\"plotly_dark\"])\n",
    "my_template[\"layout\"][\"colorway\"] = [config.colors.colors[\"ship_red\"], config.colors.colors[\"ship_blue\"], config.colors.colors[\"ship_green\"]]\n",
    "my_template[\"layout\"][\"paper_bgcolor\"] = config.colors.colors[\"space\"]\n",
    "my_template[\"layout\"][\"plot_bgcolor\"] = config.colors.colors[\"space\"]\n",
    "my_template[\"layout\"][\"font\"][\"color\"] = config.colors.colors[\"stars\"]\n",
    "pio.templates[\"notrocket\"] = my_template\n",
    "pio.templates.default = \"notrocket\""
   ]
  },
  {
   "cell_type": "markdown",
   "id": "776b2fc8",
   "metadata": {
    "slideshow": {
     "slide_type": "slide"
    }
   },
   "source": [
    "<div class=\"title\">\n",
    "\n",
    "<h1 class=\"title\">Not Rocketscience</h1>\n",
    "\n",
    "## A spaceship-flying game built with pygame\n",
    "\n",
    "### Andreas Roth - 13. June 2024\n",
    "\n",
    "</div>"
   ]
  },
  {
   "cell_type": "markdown",
   "id": "a1f65084",
   "metadata": {
    "slideshow": {
     "slide_type": "slide"
    }
   },
   "source": [
    "# 2D pixel graphics\n",
    "    \n",
    "Originating from of technical restriction, they are today just adorable to look at."
   ]
  },
  {
   "cell_type": "markdown",
   "id": "1efacea7",
   "metadata": {
    "slideshow": {
     "slide_type": "fragment"
    }
   },
   "source": [
    "<div class=\"row\">\n",
    "<div class=\"column\" style=\"width:33%\">\n",
    "<img src=\"assets/pixel_andi.png\">\n",
    "</div>\n",
    "<div class=\"column\" style=\"width:33%\">\n",
    "<img src=\"assets/pixel_python.png\">\n",
    "</div> \n",
    "<div class=\"column\" style=\"width:33%\">\n",
    "<img src=\"assets/pixel_computer.png\">\n",
    "</div>\n",
    "</div>"
   ]
  },
  {
   "cell_type": "markdown",
   "id": "bfbb431e",
   "metadata": {
    "slideshow": {
     "slide_type": "fragment"
    }
   },
   "source": [
    "Let's make the pictures move!"
   ]
  },
  {
   "cell_type": "markdown",
   "id": "4c7cfd76",
   "metadata": {
    "slideshow": {
     "slide_type": "slide"
    }
   },
   "source": [
    "<div class=\"sect\">\n",
    "    \n",
    "## What is pygame for?\n",
    "    \n",
    "* [pygame](https://www.pygame.org/news) is a python binding for the [SDL (Simple DirectMedia Layer)](https://www.libsdl.org/) C-library\n",
    "* Pygame makes it very easy to render 2D graphics and geometry to the screen and move them around.\n",
    "* Additionally, keyboard and controller input can be easily processed\n",
    "* Sounds can be played, too (out of scope for this talk)\n",
    "    \n",
    "</div>\n",
    "\n"
   ]
  },
  {
   "cell_type": "markdown",
   "id": "bd0bb4e9",
   "metadata": {
    "slideshow": {
     "slide_type": "subslide"
    }
   },
   "source": [
    "## How does pygame do that?"
   ]
  },
  {
   "cell_type": "markdown",
   "id": "bf944357",
   "metadata": {
    "cell_style": "split",
    "slideshow": {
     "slide_type": "-"
    }
   },
   "source": [
    "<img src=\"assets/very_simple.png\" width=\"450px\">"
   ]
  },
  {
   "cell_type": "markdown",
   "id": "3ffb4ec9",
   "metadata": {
    "cell_style": "split",
    "slideshow": {
     "slide_type": "fragment"
    }
   },
   "source": [
    "* We define ``pygame.Surface``s \n",
    "    * geom. forms,\n",
    "    * image files, \n",
    "    * the ``screen`` itself \n",
    "\n",
    "    and display them at pixel positions ``(x, y)``\n",
    "* Change positions over time $\n",
    "\\rightarrow$ movement\n",
    "* React to inputs $\\rightarrow$ video game"
   ]
  },
  {
   "cell_type": "markdown",
   "id": "1e0b468a",
   "metadata": {
    "slideshow": {
     "slide_type": "subslide"
    }
   },
   "source": [
    "## Program structure\n",
    "\n",
    "**Game loop**: Not a script that runs from beginning to end, but rather runs continuously and reacts on **events**\n",
    "\n",
    "```python\n",
    "running = True\n",
    "while running:\n",
    "    process_inputs()  # react on inputs\n",
    "    render_scene()  # place elements on the screen\n",
    "    update_display()  # update what is displayed\n",
    "    # control how long this takes!\n",
    "    if exit_clicked():\n",
    "        running = False\n",
    "```\n",
    "One iteration of the game loop defines one **frame** of the game.\n",
    "    "
   ]
  },
  {
   "cell_type": "markdown",
   "id": "9abf7408",
   "metadata": {
    "slideshow": {
     "slide_type": "subslide"
    }
   },
   "source": [
    "# Let's dive right in!\n",
    "\n",
    "Take a look at [``very_basic.py``](./very_basic.py), and the cod eit is based on [``GameBase``](../src/not_rocketscience/framework.py) and add some input processing!"
   ]
  },
  {
   "cell_type": "markdown",
   "id": "698537d1",
   "metadata": {
    "slideshow": {
     "slide_type": "slide"
    }
   },
   "source": [
    "<div class=\"sect\">\n",
    "    \n",
    "## How to build planets\n",
    "    \n",
    "* We can draw filled 2D circles\n",
    "* We can draw rectangular pixel images (with alpha channel for transparency)\n",
    "* How to create a \"rotating\" planet?\n",
    "    \n",
    "</div>"
   ]
  },
  {
   "cell_type": "markdown",
   "id": "e0af5c0c",
   "metadata": {
    "slideshow": {
     "slide_type": "subslide"
    }
   },
   "source": [
    "## How to build planets"
   ]
  },
  {
   "cell_type": "markdown",
   "id": "a36fdd91",
   "metadata": {
    "cell_style": "split",
    "slideshow": {
     "slide_type": "fragment"
    }
   },
   "source": [
    "<img src=\"assets/planet_disc_1.png\" width=\"500px\">\n",
    "\n",
    "**Step 1:** White circle on black square"
   ]
  },
  {
   "cell_type": "markdown",
   "id": "27df6206",
   "metadata": {
    "cell_style": "split",
    "slideshow": {
     "slide_type": "fragment"
    }
   },
   "source": [
    "<img src=\"assets/planet_disc_2.png\" width=\"500px\">\n",
    "\n",
    "**Step 2:** Set the alpha channel of the background to 0 before drawing a circle with alpha value 255"
   ]
  },
  {
   "cell_type": "markdown",
   "id": "f28e33a2",
   "metadata": {
    "slideshow": {
     "slide_type": "subslide"
    }
   },
   "source": [
    "## How to build planets"
   ]
  },
  {
   "cell_type": "markdown",
   "id": "d5520a2f",
   "metadata": {
    "cell_style": "split",
    "slideshow": {
     "slide_type": "fragment"
    }
   },
   "source": [
    "**Step 3:** Load a square planet texture \n",
    "<img src=\"../src/not_rocketscience/assets/planets/planet_02.png\" width=\"700px\">\n",
    "\n"
   ]
  },
  {
   "cell_type": "markdown",
   "id": "7b87ce7b",
   "metadata": {
    "cell_style": "split",
    "slideshow": {
     "slide_type": "fragment"
    }
   },
   "source": [
    "**Step 4:** Multiply color values of white circle and black background with texture\n",
    "<img src=\"assets/planet_disc_3.png\" width=\"400px\">"
   ]
  },
  {
   "cell_type": "markdown",
   "id": "f7f53b2c",
   "metadata": {
    "cell_style": "center",
    "slideshow": {
     "slide_type": "subslide"
    }
   },
   "source": [
    "**Step 5:** layer some transparent circles behind the planet disc to get a nice atmosphere.\n",
    "\n",
    "<img src=\"assets/planet_disc_4.png\" width=\"700px\">\n",
    "\n"
   ]
  },
  {
   "cell_type": "markdown",
   "id": "6e045738",
   "metadata": {
    "slideshow": {
     "slide_type": "subslide"
    }
   },
   "source": [
    "# How to make the planets rotate?\n",
    "\n",
    "Take a look at [``planet_animation.py``](./planet_animation.py), and the code it is based on [``PlanetTexture``](../src/not_rocketscience/planets.py)!"
   ]
  },
  {
   "cell_type": "markdown",
   "id": "d95a86dc",
   "metadata": {
    "cell_style": "split",
    "slideshow": {
     "slide_type": "slide"
    }
   },
   "source": [
    "\n",
    "<div class=\"sect\">\n",
    "    \n",
    "## Movement and mechanics: Newtonian dynamics!\n",
    "    \n",
    "* As long as no forces act on an object, it does not change its velocity\n",
    "* Forces change the velocity of an object, and velocity changes the position\n",
    "* [Newton's laws of motion on Wikipedia](https://en.wikipedia.org/wiki/Newton%27s_laws_of_motion)\n",
    "    \n",
    "</div>\n",
    "\n"
   ]
  },
  {
   "cell_type": "markdown",
   "id": "007cdbc5",
   "metadata": {
    "cell_style": "split"
   },
   "source": [
    "(Placeholder for Sir Isaac Newton)"
   ]
  },
  {
   "cell_type": "markdown",
   "id": "e1ee07cd",
   "metadata": {
    "cell_style": "center",
    "slideshow": {
     "slide_type": "subslide"
    }
   },
   "source": [
    "## The laws of motion as equations\n",
    "\n",
    "Let $x$ be a position, $v$ speed, $a$ acceleration, $F$ a force and $m$ the mass of an object\n",
    "\n",
    "<div class=\"row\">\n",
    "<div class=\"column\">\n",
    "        \n",
    "$$\n",
    "\\frac{dx}{dt} = v\n",
    "$$\n",
    "    \n",
    "</div>\n",
    "<div class=\"column\">\n",
    "\n",
    "Change of position over time is given by velocity\n",
    "\n",
    "</div>\n",
    "</div>\n",
    "<div class=\"row\">\n",
    "<div class=\"column\">\n",
    "\n",
    "$$\n",
    "\\frac{dv}{dt} = a = \\frac{F}{m}\n",
    "$$\n",
    "\n",
    "</div>\n",
    "<div class=\"column\">\n",
    "\n",
    "Change of velocity over time is acceleration which is force divided by mass\n",
    "\n",
    "</div>\n",
    "</div>\n",
    "\n",
    "Of course, $x, v, a, F$ are 2D vectors because we move around on a plane, the screen!\n"
   ]
  },
  {
   "cell_type": "markdown",
   "id": "77dd23f0",
   "metadata": {
    "slideshow": {
     "slide_type": "subslide"
    }
   },
   "source": [
    "### How do we calculate the change in position of an object?\n",
    "\n",
    "<div class=\"row\">\n",
    "<div class=\"column\" style=\"width:30%\">\n",
    "<img src=\"assets/ship_orientation.png\" width=\"400px\">\n",
    "</div>\n",
    "<div class=\"column\" style=\"width:70%\">\n",
    "\n",
    "Apply thrust into the direction into which your ship points, how does the position change?\n",
    "$$\n",
    "a_t = \\begin{pmatrix}\\cos{\\alpha}&-\\sin{\\alpha}\\\\\\sin{\\alpha}&\\cos{\\alpha}\\end{pmatrix}\\cdot\\begin{pmatrix}0\\\\T_t\\end{pmatrix} - d\\cdot v_t\n",
    "$$\n",
    "where $T_t$ is thrust applied (pixels per second per second) at time $t$, $d$ a damping factor (like air drag)\n",
    "    \n",
    "\\begin{align}\n",
    "v_{t+\\Delta t} &= v_t + \\Delta t\\cdot a_t\\\\\n",
    "x_{t+\\Delta t} &= x_t + \\Delta t\\cdot v_t\n",
    "\\end{align}\n",
    "    \n",
    "This is actually a proper numerical solution to Newtons laws of motion, called the [\"Leapfrog scheme\"](https://en.wikipedia.org/wiki/Leapfrog_integration)\n",
    "</div>\n",
    "</div>"
   ]
  },
  {
   "cell_type": "markdown",
   "id": "7fe1201b",
   "metadata": {
    "slideshow": {
     "slide_type": "subslide"
    }
   },
   "source": [
    "# Let's try that out!\n",
    "\n",
    "* Run [``run_main.py``](./run_main.py) and fly around a bit!\n",
    "* Rotate the ship with the arrow keys left and right and change $\\alpha$\n",
    "* Press the X key to apply thrust and set $T_t$ to a constant value while the X key is held down. Otherwise it is zero.\n",
    "* What happens around planets?"
   ]
  },
  {
   "cell_type": "markdown",
   "id": "f13f6d3b",
   "metadata": {
    "slideshow": {
     "slide_type": "slide"
    }
   },
   "source": [
    "<div class=\"sect\">\n",
    "\n",
    "## Gravity calculations\n",
    "    \n",
    "* Something is off with that gravity? Well, it's not Newton's gravity\n",
    "* A special gravity force has been \"designed\" for this game, to make it easier to handle and more fun!\n",
    "    \n",
    "</div>"
   ]
  },
  {
   "cell_type": "markdown",
   "id": "e5141fdb",
   "metadata": {
    "slideshow": {
     "slide_type": "subslide"
    }
   },
   "source": [
    "## Newtonian gravity is not fun to play with\n",
    "[Classic law of gravity](https://en.wikipedia.org/wiki/Newton%27s_law_of_universal_gravitation): Two objects attract each other depending on their distance and masses."
   ]
  },
  {
   "cell_type": "markdown",
   "id": "b967f3cc",
   "metadata": {
    "cell_style": "split",
    "slideshow": {
     "slide_type": "-"
    }
   },
   "source": [
    "* Let $x$ be the position of a test particle (our ship) with unit mass, let $x_P$ be a gravitational source (a planet),\n",
    "* $|x - x_P|$ denotes the distance between ship and planet, \n",
    "\n",
    "then it holds for the gravitational force on $x$, $F(x)$\n",
    "\n",
    "\\begin{align}\n",
    "F(x) &= \\underbrace{-\\frac{Gm_p}{|x-x_p|^2}}_{\\text{force magnitude}} \\cdot \\underbrace{\\frac{x-x_p}{|x-x_p|}}_{\\text{unit vector}}\n",
    "\\end{align}"
   ]
  },
  {
   "cell_type": "code",
   "execution_count": null,
   "id": "d6ca024a",
   "metadata": {
    "cell_style": "split",
    "hide_input": true
   },
   "outputs": [],
   "source": [
    "from not_rocketscience.math import newton_gravity_force, newton_gravity_force_derivative, canonical_newton_parameterset, newton_iteration\n",
    "\n",
    "scale = 600 / newton_iteration(\n",
    "    lambda r: newton_gravity_force(*canonical_newton_parameterset)(r) + 355,\n",
    "    newton_gravity_force_derivative(*canonical_newton_parameterset),\n",
    "    initial_value=0.03, tolerance=0.001)\n",
    "xn = np.linspace(0, 1000, 100)\n",
    "go.Figure(\n",
    "    data=[go.Scatter(name=\"Newton force\", x=xn, y=newton_gravity_force(*canonical_newton_parameterset)(xn / scale))],\n",
    "    layout=dict(title=\"Newton gravity force magnitude (cut off for small values)\", xaxis=dict(title=\"distance in pixels\"), yaxis=dict(title=\"force magnitude px per second per second\"))\n",
    ")"
   ]
  },
  {
   "cell_type": "markdown",
   "id": "cb6409c2",
   "metadata": {
    "slideshow": {
     "slide_type": "subslide"
    }
   },
   "source": [
    "## Introducing the \"Weird Gravity\""
   ]
  },
  {
   "cell_type": "code",
   "execution_count": null,
   "id": "52d2b23d",
   "metadata": {
    "cell_style": "split",
    "hide_input": true,
    "scrolled": false,
    "slideshow": {
     "slide_type": "fragment"
    }
   },
   "outputs": [],
   "source": [
    "from not_rocketscience.math import weird_gravity_force, canonical_weird_parameterset, weird_gravity_force_derivative, weird_gravity_potential\n",
    "\n",
    "scale = 200 / newton_iteration(\n",
    "    weird_gravity_force(*canonical_weird_parameterset),\n",
    "    weird_gravity_force_derivative(*canonical_weird_parameterset),\n",
    "    initial_value=0, tolerance=1.0e-3\n",
    ")\n",
    "\n",
    "x = np.linspace(0, 1000, 100)\n",
    "go.Figure(\n",
    "    data=[\n",
    "        go.Scatter(name=\"Force\", x=x, y=weird_gravity_force(*canonical_weird_parameterset)(x / scale)),\n",
    "        go.Scatter(name=\"Potential\", x=x, y=weird_gravity_potential(*canonical_weird_parameterset)(x / scale))\n",
    "    ],\n",
    "    layout=dict(title=\"Gravity potential and force over distance\", xaxis=dict(title=\"distance\"))\n",
    ")\n"
   ]
  },
  {
   "cell_type": "markdown",
   "id": "84bcf229",
   "metadata": {
    "cell_style": "split",
    "slideshow": {
     "slide_type": "fragment"
    }
   },
   "source": [
    "* We want finite force values if distance approaches zero.\n",
    "* We do not want collisions with planets, so when you get to close, the weird gravity pushes you away again.\n",
    "\n",
    "Behold our force magnitude $F(r)$ ($r$ being the distance)\n",
    "\n",
    "\\begin{align}\n",
    "\\Phi(r) &= 4 \\cdot \\log(6(r + 0.2)) \\cdot \\exp(-4 (r - 1.2)^2) \\\\\n",
    "F(r) &= 4 \\cdot \\exp(-4 (r - 1.2)^2)\\\\\n",
    "&\\cdot(\\frac{1}{r + 0.2} - 4\\log(6(r + 0.2)))\n",
    "\\end{align}"
   ]
  },
  {
   "cell_type": "markdown",
   "id": "eeac1415",
   "metadata": {
    "slideshow": {
     "slide_type": "subslide"
    }
   },
   "source": [
    "### Performance considerations\n",
    "\n",
    "Each planet makes a contribution to the gravity force on our ship, so **in every frame**, we have to calculate for $N$ planets\n",
    "\n",
    "$$\n",
    "F_{total}(x) = \\sum_{i=1}^N F(|x - x_i|) \\cdot\\frac{x-x_i}{|x-x_i|}\n",
    "$$\n",
    "\n",
    "That is inefficient! So we use a KDTree with the world coordinates of the planets"
   ]
  },
  {
   "cell_type": "markdown",
   "id": "7d3cc7f6",
   "metadata": {
    "slideshow": {
     "slide_type": "subslide"
    }
   },
   "source": [
    "## World coordinates\n",
    "\n",
    "<div class=\"row\">\n",
    "<div class=\"column\">\n",
    "<img src=\"assets/world_coordinates.jpg\" width=\"90%\">\n",
    "</div>\n",
    "<div class=\"column\">\n",
    "    \n",
    "* ship moves\n",
    "* planets don't move\n",
    "    \n",
    "</div>\n",
    "</div>"
   ]
  },
  {
   "cell_type": "markdown",
   "id": "212a2ab3",
   "metadata": {
    "slideshow": {
     "slide_type": "subslide"
    }
   },
   "source": [
    "## Screen coordinates\n",
    "\n",
    "<div class=\"row\">\n",
    "<div class=\"column\">\n",
    "<img src=\"assets/screen_coordinates.jpg\" width=\"90%\">\n",
    "</div>\n",
    "<div class=\"column\">\n",
    "    \n",
    "* ship does not move\n",
    "* planets move\n",
    "    \n",
    "</div>\n",
    "</div>"
   ]
  }
 ],
 "metadata": {
  "celltoolbar": "Slideshow",
  "kernelspec": {
   "display_name": "Python 3 (ipykernel)",
   "language": "python",
   "name": "python3"
  },
  "language_info": {
   "codemirror_mode": {
    "name": "ipython",
    "version": 3
   },
   "file_extension": ".py",
   "mimetype": "text/x-python",
   "name": "python",
   "nbconvert_exporter": "python",
   "pygments_lexer": "ipython3",
   "version": "3.11.8"
  },
  "rise": {
   "autolaunch": false,
   "backimage": "assets/pres_bg.png",
   "footer": "<h4><b>Andreas Roth</b> | 2024-06-13</h4>",
   "header": "<h3>Not Rocketscience - A spaceship-flying game with pygame</h3>"
  }
 },
 "nbformat": 4,
 "nbformat_minor": 5
}
